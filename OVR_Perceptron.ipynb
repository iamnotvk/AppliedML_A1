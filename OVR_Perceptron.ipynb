{
  "nbformat": 4,
  "nbformat_minor": 0,
  "metadata": {
    "colab": {
      "name": "OVR_Perceptron.ipynb",
      "provenance": [],
      "collapsed_sections": [],
      "authorship_tag": "ABX9TyOOKjtuAXObB/ktHflilKsB",
      "include_colab_link": true
    },
    "kernelspec": {
      "name": "python3",
      "display_name": "Python 3"
    },
    "language_info": {
      "name": "python"
    }
  },
  "cells": [
    {
      "cell_type": "markdown",
      "metadata": {
        "id": "view-in-github",
        "colab_type": "text"
      },
      "source": [
        "<a href=\"https://colab.research.google.com/github/iamnotvk/AppliedML_A1/blob/main/OVR_Perceptron.ipynb\" target=\"_parent\"><img src=\"https://colab.research.google.com/assets/colab-badge.svg\" alt=\"Open In Colab\"/></a>"
      ]
    },
    {
      "cell_type": "code",
      "metadata": {
        "id": "ikZZluah3chB"
      },
      "source": [
        "import numpy as np\n",
        "import matplotlib.pyplot as plt\n",
        "import pandas as pd\n",
        "import warnings\n",
        "from sklearn.metrics import accuracy_score\n",
        "from sklearn.datasets import make_classification\n",
        "from sklearn.datasets import make_circles\n",
        "from sklearn.linear_model import Perceptron\n",
        "from sklearn.model_selection import train_test_split\n",
        "from sklearn.preprocessing import StandardScaler\n",
        "from sklearn import svm\n",
        "from sklearn.preprocessing import label_binarize\n",
        "from mlxtend.plotting import plot_decision_regions\n",
        "from sklearn.metrics import confusion_matrix,accuracy_score,classification_report\n",
        "# inline plotting instead of popping out\n",
        "%matplotlib inline\n",
        "import os, math\n"
      ],
      "execution_count": 78,
      "outputs": []
    },
    {
      "cell_type": "code",
      "metadata": {
        "id": "xl-MQT7AgsQY"
      },
      "source": [
        "def plotRegions (model,X):\n",
        "  x_min, x_max = X[:, 0].min() - 1, X[:, 0].max() + 1\n",
        "  y_min, y_max = X[:, 1].min() - 1, X[:, 1].max() + 1\n",
        "  XX, YY = np.meshgrid(np.arange(x_min, x_max, 0.01), np.arange(y_min, y_max, 0.01))\n",
        "  z = model.predict(np.c_[XX.ravel(), YY.ravel()])\n",
        "  ZZ = z.reshape(XX.shape)\n",
        "  # x = z.reshape(X.shape)\n",
        "  plt.contourf(XX, YY, ZZ, alpha= 0.2)\n",
        "  # plt.show()"
      ],
      "execution_count": 79,
      "outputs": []
    },
    {
      "cell_type": "code",
      "metadata": {
        "colab": {
          "base_uri": "https://localhost:8080/",
          "height": 1000
        },
        "id": "8JR7KV2oCU3V",
        "outputId": "4b4ae903-4c6a-453a-ccf2-73fbbc2eddf5"
      },
      "source": [
        "def loaddata():\n",
        "  path = \"https://github.com/iamnotvk/AppliedML_A1/raw/main/seeds_test.csv\"\n",
        "  dataset = pd.read_csv(path,header=None).values\n",
        "  X = dataset[:,0:2]\n",
        "  # print(X)\n",
        "  y_test = dataset[:,2]\n",
        "  y_test_binary = label_binarize([1,2,3], classes=y_test,neg_label = -1)\n",
        "  # print(y_test_binary)\n",
        "\n",
        "  #Model 1 \n",
        "  model1 = Perceptron(random_state=2)\n",
        "  model1.fit(X, y_test_binary[0])\n",
        "  y_pred_binary1 = model1.predict(X)\n",
        "  perceptron_confusion_matrix = confusion_matrix(y_test_binary[0],y_pred_binary1)\n",
        "  print(\"Perceptron Confusion Matrix | Model 1 | Kama VS Rest: \")\n",
        "  print(perceptron_confusion_matrix)\n",
        "  perceptron_accuracy_score = accuracy_score(y_test_binary[0], y_pred_binary1) \n",
        "  print(\"Perceptron Accuracy Score | Model 1 | Kama VS Rest: \")\n",
        "  print(\"%0.3f\" % perceptron_accuracy_score)\n",
        "  print(\"Perceptron's Descision Boundary for Model 1\")\n",
        "  # plot_decision_regions(X, y_pred_binary1, clf=model1, legend=2)\n",
        "  plotRegions(model1,X)\n",
        "  plt.show()\n",
        "\n",
        "  #Model 2 \n",
        "  print()\n",
        "  model2 = Perceptron(random_state=2)\n",
        "  model2.fit(X, y_test_binary[1])\n",
        "  y_pred_binary2 = model2.predict(X)\n",
        "  perceptron_confusion_matrix = confusion_matrix(y_test_binary[1],y_pred_binary2)\n",
        "  print(\"Perceptron Confusion Matrix | Model 2 | Rosa VS Rest: \")\n",
        "  print(perceptron_confusion_matrix)\n",
        "  perceptron_accuracy_score = accuracy_score(y_test_binary[1], y_pred_binary2) \n",
        "  print(\"Perceptron Accuracy Score | Model 2 | Rosa VS Rest: \")\n",
        "  print(\"%0.3f\" % perceptron_accuracy_score)\n",
        "  # plot_decision_regions(X, y_pred_binary2, clf=model2, legend=2)\n",
        "  # plotRegions(model1)\n",
        "  plotRegions(model2,X)\n",
        "  plt.show()\n",
        "\n",
        "\n",
        "  #Model 3\n",
        "  print()\n",
        "  model3 = Perceptron(random_state=2)\n",
        "  model3.fit(X, y_test_binary[2])\n",
        "  y_pred_binary3 = model3.predict(X)\n",
        "  perceptron_confusion_matrix = confusion_matrix(y_test_binary[2],y_pred_binary3)\n",
        "  print(\"Perceptron Confusion Matrix | Model 3 | Canadian VS Rest: \")\n",
        "  print(perceptron_confusion_matrix)\n",
        "  perceptron_accuracy_score = accuracy_score(y_test_binary[2], y_pred_binary3) \n",
        "  print(\"Perceptron Accuracy Score | Model 3 | Canadian VS Rest:\")\n",
        "  print(\"%0.3f\" % perceptron_accuracy_score)\n",
        "  print(\"Perceptron's Descision Boundary for Model 3\")\n",
        "  # plot_decision_regions(X, y_pred_binary3, clf=model3, legend=2)\n",
        "  plotRegions(model3,X)\n",
        "  plt.show()\n",
        "  # model2 = svm.SVC()\n",
        "  # model2.fit(X,y_test)\n",
        "  # y_pred_svm = model2.predict(X)\n",
        "  # svm_confusion_matrix = confusion_matrix(y_test,y_pred_svm)\n",
        "  # print(\"SVM Confusion Matrix : \")\n",
        "  # print(svm_confusion_matrix)\n",
        "  # print(\"SVM Accuracy Score : \")\n",
        "  # svm_accuracy_score = accuracy_score(y_test,y_pred_svm)\n",
        "  # print(svm_accuracy_score)\n",
        "  return\n",
        "warnings.filterwarnings('ignore')\n",
        "loaddata()"
      ],
      "execution_count": 80,
      "outputs": [
        {
          "output_type": "stream",
          "name": "stdout",
          "text": [
            "Perceptron Confusion Matrix | Model 1 | Kama VS Rest: \n",
            "[[28  1]\n",
            " [ 9  4]]\n",
            "Perceptron Accuracy Score | Model 1 | Kama VS Rest: \n",
            "0.762\n",
            "Perceptron's Descision Boundary for Model 1\n"
          ]
        },
        {
          "output_type": "display_data",
          "data": {
            "image/png": "[encoded data removed]",
            "text/plain": [
              "<Figure size 432x288 with 1 Axes>"
            ]
          },
          "metadata": {
            "needs_background": "light"
          }
        },
        {
          "output_type": "stream",
          "name": "stdout",
          "text": [
            "\n",
            "Perceptron Confusion Matrix | Model 2 | Rosa VS Rest: \n",
            "[[25  0]\n",
            " [17  0]]\n",
            "Perceptron Accuracy Score | Model 2 | Rosa VS Rest: \n",
            "0.595\n"
          ]
        },
        {
          "output_type": "display_data",
          "data": {
            "image/png": "[encoded data removed]",
            "text/plain": [
              "<Figure size 432x288 with 1 Axes>"
            ]
          },
          "metadata": {
            "needs_background": "light"
          }
        },
        {
          "output_type": "stream",
          "name": "stdout",
          "text": [
            "\n",
            "Perceptron Confusion Matrix | Model 3 | Canadian VS Rest: \n",
            "[[ 7 23]\n",
            " [ 0 12]]\n",
            "Perceptron Accuracy Score | Model 3 | Canadian VS Rest:\n",
            "0.452\n",
            "Perceptron's Descision Boundary for Model 3\n"
          ]
        },
        {
          "output_type": "display_data",
          "data": {
            "image/png": "[encoded data removed]",
            "text/plain": [
              "<Figure size 432x288 with 1 Axes>"
            ]
          },
          "metadata": {
            "needs_background": "light"
          }
        }
      ]
    }
  ]
}