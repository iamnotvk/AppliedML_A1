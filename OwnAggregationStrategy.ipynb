{
  "nbformat": 4,
  "nbformat_minor": 0,
  "metadata": {
    "colab": {
      "name": "OwnAggregationStrategy.ipynb",
      "provenance": [],
      "collapsed_sections": [],
      "authorship_tag": "ABX9TyNQUGVQOrrUNuW15S7/H+XJ",
      "include_colab_link": true
    },
    "kernelspec": {
      "name": "python3",
      "display_name": "Python 3"
    },
    "language_info": {
      "name": "python"
    }
  },
  "cells": [
    {
      "cell_type": "markdown",
      "metadata": {
        "id": "view-in-github",
        "colab_type": "text"
      },
      "source": [
        "<a href=\"https://colab.research.google.com/github/iamnotvk/AppliedML_A1/blob/main/OwnAggregationStrategy.ipynb\" target=\"_parent\"><img src=\"https://colab.research.google.com/assets/colab-badge.svg\" alt=\"Open In Colab\"/></a>"
      ]
    },
    {
      "cell_type": "code",
      "metadata": {
        "id": "WLK92uFWUiWa"
      },
      "source": [
        "import numpy as np\n",
        "import matplotlib.pyplot as plt\n",
        "import pandas as pd\n",
        "import warnings\n",
        "from sklearn.metrics import accuracy_score\n",
        "from sklearn.ensemble import RandomForestClassifier\n",
        "from sklearn.datasets import make_classification\n",
        "from sklearn.datasets import make_circles\n",
        "from sklearn.linear_model import Perceptron\n",
        "from sklearn.model_selection import train_test_split\n",
        "from sklearn.preprocessing import StandardScaler\n",
        "from sklearn import svm\n",
        "from numpy import argmax\n",
        "from sklearn.ensemble import VotingClassifier\n",
        "from sklearn import linear_model\n",
        "from sklearn.datasets import make_classification\n",
        "from sklearn.calibration import CalibratedClassifierCV\n",
        "from sklearn.preprocessing import label_binarize\n",
        "from mlxtend.plotting import plot_decision_regions\n",
        "from sklearn.metrics import confusion_matrix,accuracy_score,classification_report\n",
        "# inline plotting instead of popping out\n",
        "%matplotlib inline\n",
        "import os, math"
      ],
      "execution_count": 12,
      "outputs": []
    },
    {
      "cell_type": "code",
      "metadata": {
        "id": "m97Ya20wA8Ct"
      },
      "source": [
        "def loaddata():\n",
        "  path = \"https://github.com/iamnotvk/AppliedML_A1/raw/main/seeds_test.csv\"\n",
        "  dataset = pd.read_csv(path,header=None).values\n",
        "  X = dataset[:,0:2]\n",
        "  # print(X)\n",
        "  y_test = dataset[:,2]\n",
        "  y_test_binary = label_binarize([1,2,3], classes=y_test,neg_label = -1)\n",
        "  # print(y_test_binary)\n",
        "\n",
        "  model2 = Perceptron()\n",
        "  model2.fit(X, y_test_binary[1])\n",
        "  y_pred_binary2 = model2.predict(X)\n",
        "  perceptron_confusion_matrix = confusion_matrix(y_test_binary[1],y_pred_binary2)\n",
        "  print(\"Perceptron Confusion Matrix | Model 2 | Rosa VS Rest: \")\n",
        "  print(perceptron_confusion_matrix)\n",
        "  perceptron_accuracy_score = accuracy_score(y_test_binary[1], y_pred_binary2) \n",
        "  print(\"Perceptron Accuracy Score | Model 2 | Rosa VS Rest: \")\n",
        "  print(\"%0.3f\" % perceptron_accuracy_score)\n",
        "  # print(\"Perceptron's Descision Boundary for Model 2\")\n",
        "  # plot(X,y_pred_binary2,model2)\n",
        "  plot_decision_regions(X, y_pred_binary2, clf=model2)"
      ],
      "execution_count": 13,
      "outputs": []
    }
  ]
}