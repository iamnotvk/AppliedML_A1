{
  "nbformat": 4,
  "nbformat_minor": 0,
  "metadata": {
    "colab": {
      "name": "OVR_SVM.ipynb",
      "provenance": [],
      "collapsed_sections": [],
      "authorship_tag": "ABX9TyNmgX6PQVtEjeOu0I3I7b3N",
      "include_colab_link": true
    },
    "kernelspec": {
      "name": "python3",
      "display_name": "Python 3"
    },
    "language_info": {
      "name": "python"
    }
  },
  "cells": [
    {
      "cell_type": "markdown",
      "metadata": {
        "id": "view-in-github",
        "colab_type": "text"
      },
      "source": [
        "<a href=\"https://colab.research.google.com/github/iamnotvk/AppliedML_A1/blob/main/OVR_SVM.ipynb\" target=\"_parent\"><img src=\"https://colab.research.google.com/assets/colab-badge.svg\" alt=\"Open In Colab\"/></a>"
      ]
    },
    {
      "cell_type": "code",
      "metadata": {
        "id": "ikZZluah3chB"
      },
      "source": [
        "import numpy as np\n",
        "import matplotlib.pyplot as plt\n",
        "import pandas as pd\n",
        "import warnings\n",
        "from sklearn.metrics import accuracy_score\n",
        "from sklearn.datasets import make_classification\n",
        "from sklearn.datasets import make_circles\n",
        "from sklearn.linear_model import Perceptron\n",
        "from sklearn.model_selection import train_test_split\n",
        "from sklearn.preprocessing import StandardScaler\n",
        "from sklearn import svm\n",
        "from sklearn.preprocessing import label_binarize\n",
        "from mlxtend.plotting import plot_decision_regions\n",
        "from sklearn.metrics import confusion_matrix,accuracy_score,classification_report\n",
        "# inline plotting instead of popping out\n",
        "%matplotlib inline\n",
        "import os, math\n"
      ],
      "execution_count": 1,
      "outputs": []
    },
    {
      "cell_type": "code",
      "metadata": {
        "colab": {
          "base_uri": "https://localhost:8080/",
          "height": 1000
        },
        "id": "8JR7KV2oCU3V",
        "outputId": "e0fbdbca-13b0-4532-af28-227b2ed816b2"
      },
      "source": [
        "def loaddata():\n",
        "  path = \"https://github.com/iamnotvk/AppliedML_A1/raw/main/seeds_test.csv\"\n",
        "  dataset = pd.read_csv(path,header=None).values\n",
        "  X = dataset[:,0:2]\n",
        "  # print(X)\n",
        "  y_test = dataset[:,2]\n",
        "  y_test_binary = label_binarize([1,2,3], classes=y_test,neg_label = -1)\n",
        "  # print(y_test_binary)\n",
        "\n",
        "  #Model 1 \n",
        "  model1 = svm.SVC()\n",
        "  model1.fit(X,y_test_binary[0])\n",
        "  y_pred_svm1 = model1.predict(X)\n",
        "  svm_confusion_matrix = confusion_matrix(y_test_binary[0],y_pred_svm1)\n",
        "  print(\"SVM Confusion Matrix | Model 1 | Kama VS Rest: \")\n",
        "  print(svm_confusion_matrix)\n",
        "  print(\"SVM Accuracy Score | Model 1 : \")\n",
        "  svm_accuracy_score = accuracy_score(y_test_binary[0],y_pred_svm1)\n",
        "  print(\"%0.3f\" % svm_accuracy_score)\n",
        "  plot_decision_regions(X, y_pred_svm1, clf=model1, legend=2)\n",
        "  plt.show()\n",
        "\n",
        "  #Model 2 \n",
        "  model2 = svm.SVC()\n",
        "  model2.fit(X,y_test_binary[1])\n",
        "  y_pred_svm2 = model2.predict(X)\n",
        "  svm_confusion_matrix = confusion_matrix(y_test_binary[1],y_pred_svm2)\n",
        "  print(\"SVM Confusion Matrix | Model 2 | Rosa VS Rest: \")\n",
        "  print(svm_confusion_matrix)\n",
        "  print(\"SVM Accuracy Score | Model 2: \")\n",
        "  svm_accuracy_score = accuracy_score(y_test_binary[1],y_pred_svm2)\n",
        "  print(\"%0.3f\" % svm_accuracy_score)\n",
        "  plot_decision_regions(X, y_pred_svm2, clf=model2, legend=2)\n",
        "  plt.show()\n",
        "\n",
        "  #Model 3 \n",
        "  model3 = svm.SVC()\n",
        "  model3.fit(X,y_test_binary[2])\n",
        "  y_pred_svm3 = model3.predict(X)\n",
        "  svm_confusion_matrix = confusion_matrix(y_test_binary[2],y_pred_svm3)\n",
        "  print(\"SVM Confusion Matrix | Model 3 | Canadian VS Rest: \")\n",
        "  print(svm_confusion_matrix)\n",
        "  print(\"SVM Accuracy Score | Model 3 : \")\n",
        "  svm_accuracy_score = accuracy_score(y_test_binary[2],y_pred_svm3)\n",
        "  print(\"%0.3f\" % svm_accuracy_score)\n",
        "  plot_decision_regions(X, y_pred_svm3, clf=model3, legend=2)\n",
        "  plt.show()\n",
        "  return\n",
        "warnings.filterwarnings('ignore')\n",
        "loaddata()"
      ],
      "execution_count": 8,
      "outputs": [
        {
          "output_type": "stream",
          "name": "stdout",
          "text": [
            "SVM Confusion Matrix | Model 1 | Kama VS Rest: \n",
            "[[29  0]\n",
            " [11  2]]\n",
            "SVM Accuracy Score | Model 1 : \n",
            "0.738\n"
          ]
        },
        {
          "output_type": "display_data",
          "data": {
            "image/png": "[encoded data removed]",
            "text/plain": [
              "<Figure size 432x288 with 1 Axes>"
            ]
          },
          "metadata": {
            "needs_background": "light"
          }
        },
        {
          "output_type": "stream",
          "name": "stdout",
          "text": [
            "SVM Confusion Matrix | Model 2 | Rosa VS Rest: \n",
            "[[25  0]\n",
            " [ 0 17]]\n",
            "SVM Accuracy Score | Model 2: \n",
            "1.000\n"
          ]
        },
        {
          "output_type": "display_data",
          "data": {
            "image/png": "[encoded data removed]",
            "text/plain": [
              "<Figure size 432x288 with 1 Axes>"
            ]
          },
          "metadata": {
            "needs_background": "light"
          }
        },
        {
          "output_type": "stream",
          "name": "stdout",
          "text": [
            "SVM Confusion Matrix | Model 3 | Canadian VS Rest: \n",
            "[[30  0]\n",
            " [ 1 11]]\n",
            "SVM Accuracy Score | Model 3 : \n",
            "0.976\n"
          ]
        },
        {
          "output_type": "display_data",
          "data": {
            "image/png": "[encoded data removed]",
            "text/plain": [
              "<Figure size 432x288 with 1 Axes>"
            ]
          },
          "metadata": {
            "needs_background": "light"
          }
        }
      ]
    }
  ]
}