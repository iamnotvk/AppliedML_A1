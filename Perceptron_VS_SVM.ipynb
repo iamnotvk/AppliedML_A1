{
  "nbformat": 4,
  "nbformat_minor": 0,
  "metadata": {
    "colab": {
      "name": "Perceptron_VS_SVM.ipynb",
      "provenance": [],
      "collapsed_sections": [],
      "authorship_tag": "ABX9TyMLGRBpeKxcYGRBgXYPfNhY",
      "include_colab_link": true
    },
    "kernelspec": {
      "name": "python3",
      "display_name": "Python 3"
    },
    "language_info": {
      "name": "python"
    }
  },
  "cells": [
    {
      "cell_type": "markdown",
      "metadata": {
        "id": "view-in-github",
        "colab_type": "text"
      },
      "source": [
        "<a href=\"https://colab.research.google.com/github/iamnotvk/AppliedML_A1/blob/main/Perceptron_VS_SVM.ipynb\" target=\"_parent\"><img src=\"https://colab.research.google.com/assets/colab-badge.svg\" alt=\"Open In Colab\"/></a>"
      ]
    },
    {
      "cell_type": "code",
      "metadata": {
        "id": "9YbOEir5MCsM"
      },
      "source": [
        "import numpy as np\n",
        "import matplotlib.pyplot as plt\n",
        "import pandas as pd\n",
        "from sklearn.metrics import accuracy_score\n",
        "from sklearn.datasets import make_classification\n",
        "from sklearn.datasets import make_circles\n",
        "from sklearn.linear_model import Perceptron\n",
        "from sklearn.model_selection import train_test_split\n",
        "from sklearn.preprocessing import StandardScaler\n",
        "from sklearn import svm\n",
        "from sklearn.metrics import confusion_matrix,accuracy_score,classification_report\n",
        "# inline plotting instead of popping out\n",
        "%matplotlib inline\n",
        "import os, math"
      ],
      "execution_count": 1,
      "outputs": []
    },
    {
      "cell_type": "code",
      "metadata": {
        "id": "ikZZluah3chB",
        "colab": {
          "base_uri": "https://localhost:8080/"
        },
        "outputId": "1ea44eb0-b7f8-413b-f28e-b6eaf3c8b285"
      },
      "source": [
        "def loaddata():\n",
        "  path = \"https://github.com/iamnotvk/AppliedML_A1/raw/main/seeds_test_without_kama.csv\"\n",
        "  dataset = pd.read_csv(path,header=None).values\n",
        "  X = dataset[:,0:2]\n",
        "  y_test = dataset[:,2]\n",
        "  model = Perceptron(random_state=2)\n",
        "  model.fit(X, y_test)\n",
        "  y_pred = model.predict(X)\n",
        "  perceptron_confusion_matrix = confusion_matrix(y_test,y_pred)\n",
        "  print(\"Perceptron Confusion Matrix : \")\n",
        "  print(perceptron_confusion_matrix)\n",
        "  perceptron_accuracy_score = accuracy_score(y_test, y_pred) \n",
        "  print(\"Perceptron Accuracy Score : \")\n",
        "  print(\"%0.3f\" % perceptron_accuracy_score)\n",
        "  model2 = svm.SVC()\n",
        "  model2.fit(X,y_test)\n",
        "  y_pred_svm = model2.predict(X)\n",
        "  svm_confusion_matrix = confusion_matrix(y_test,y_pred_svm)\n",
        "  print(\"SVM Confusion Matrix : \")\n",
        "  print(svm_confusion_matrix)\n",
        "  print(\"SVM Accuracy Score : \")\n",
        "  svm_accuracy_score = accuracy_score(y_test,y_pred_svm)\n",
        "  print(svm_accuracy_score)\n",
        "  return\n",
        "loaddata()\n"
      ],
      "execution_count": 3,
      "outputs": [
        {
          "output_type": "stream",
          "name": "stdout",
          "text": [
            "Perceptron Confusion Matrix : \n",
            "[[17  0]\n",
            " [ 6  6]]\n",
            "Perceptron Accuracy Score : \n",
            "0.793\n",
            "SVM Confusion Matrix : \n",
            "[[17  0]\n",
            " [ 0 12]]\n",
            "SVM Accuracy Score : \n",
            "1.0\n"
          ]
        }
      ]
    }
  ]
}